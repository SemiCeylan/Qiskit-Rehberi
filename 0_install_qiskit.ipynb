{
 "cells": [
  {
   "cell_type": "code",
   "execution_count": 5,
   "id": "dcc7411f-94f1-46ae-92b1-ace5d1016850",
   "metadata": {
    "tags": []
   },
   "outputs": [
    {
     "name": "stdout",
     "output_type": "stream",
     "text": [
      "Requirement already satisfied: qiskit in /home/osmansemi/qiskit_env/lib/python3.10/site-packages (1.0.2)\n",
      "Requirement already satisfied: python-dateutil>=2.8.0 in /home/osmansemi/qiskit_env/lib/python3.10/site-packages (from qiskit) (2.9.0.post0)\n",
      "Requirement already satisfied: stevedore>=3.0.0 in /home/osmansemi/qiskit_env/lib/python3.10/site-packages (from qiskit) (5.2.0)\n",
      "Requirement already satisfied: scipy>=1.5 in /home/osmansemi/qiskit_env/lib/python3.10/site-packages (from qiskit) (1.13.0)\n",
      "Requirement already satisfied: sympy>=1.3 in /home/osmansemi/qiskit_env/lib/python3.10/site-packages (from qiskit) (1.12)\n",
      "Requirement already satisfied: typing-extensions in /home/osmansemi/qiskit_env/lib/python3.10/site-packages (from qiskit) (4.11.0)\n",
      "Requirement already satisfied: numpy<2,>=1.17 in /home/osmansemi/qiskit_env/lib/python3.10/site-packages (from qiskit) (1.26.4)\n",
      "Requirement already satisfied: rustworkx>=0.14.0 in /home/osmansemi/qiskit_env/lib/python3.10/site-packages (from qiskit) (0.14.2)\n",
      "Requirement already satisfied: symengine>=0.11 in /home/osmansemi/qiskit_env/lib/python3.10/site-packages (from qiskit) (0.11.0)\n",
      "Requirement already satisfied: dill>=0.3 in /home/osmansemi/qiskit_env/lib/python3.10/site-packages (from qiskit) (0.3.8)\n",
      "Requirement already satisfied: six>=1.5 in /home/osmansemi/qiskit_env/lib/python3.10/site-packages (from python-dateutil>=2.8.0->qiskit) (1.16.0)\n",
      "Requirement already satisfied: pbr!=2.1.0,>=2.0.0 in /home/osmansemi/qiskit_env/lib/python3.10/site-packages (from stevedore>=3.0.0->qiskit) (6.0.0)\n",
      "Requirement already satisfied: mpmath>=0.19 in /home/osmansemi/qiskit_env/lib/python3.10/site-packages (from sympy>=1.3->qiskit) (1.3.0)\n",
      "Note: you may need to restart the kernel to use updated packages.\n",
      "Requirement already satisfied: qiskit-aer in /home/osmansemi/qiskit_env/lib/python3.10/site-packages (0.14.1)\n",
      "Requirement already satisfied: numpy>=1.16.3 in /home/osmansemi/qiskit_env/lib/python3.10/site-packages (from qiskit-aer) (1.26.4)\n",
      "Requirement already satisfied: qiskit>=0.45.0 in /home/osmansemi/qiskit_env/lib/python3.10/site-packages (from qiskit-aer) (1.0.2)\n",
      "Requirement already satisfied: scipy>=1.0 in /home/osmansemi/qiskit_env/lib/python3.10/site-packages (from qiskit-aer) (1.13.0)\n",
      "Requirement already satisfied: psutil>=5 in /home/osmansemi/qiskit_env/lib/python3.10/site-packages (from qiskit-aer) (5.9.8)\n",
      "Requirement already satisfied: sympy>=1.3 in /home/osmansemi/qiskit_env/lib/python3.10/site-packages (from qiskit>=0.45.0->qiskit-aer) (1.12)\n",
      "Requirement already satisfied: python-dateutil>=2.8.0 in /home/osmansemi/qiskit_env/lib/python3.10/site-packages (from qiskit>=0.45.0->qiskit-aer) (2.9.0.post0)\n",
      "Requirement already satisfied: stevedore>=3.0.0 in /home/osmansemi/qiskit_env/lib/python3.10/site-packages (from qiskit>=0.45.0->qiskit-aer) (5.2.0)\n",
      "Requirement already satisfied: dill>=0.3 in /home/osmansemi/qiskit_env/lib/python3.10/site-packages (from qiskit>=0.45.0->qiskit-aer) (0.3.8)\n",
      "Requirement already satisfied: typing-extensions in /home/osmansemi/qiskit_env/lib/python3.10/site-packages (from qiskit>=0.45.0->qiskit-aer) (4.11.0)\n",
      "Requirement already satisfied: symengine>=0.11 in /home/osmansemi/qiskit_env/lib/python3.10/site-packages (from qiskit>=0.45.0->qiskit-aer) (0.11.0)\n",
      "Requirement already satisfied: rustworkx>=0.14.0 in /home/osmansemi/qiskit_env/lib/python3.10/site-packages (from qiskit>=0.45.0->qiskit-aer) (0.14.2)\n",
      "Requirement already satisfied: six>=1.5 in /home/osmansemi/qiskit_env/lib/python3.10/site-packages (from python-dateutil>=2.8.0->qiskit>=0.45.0->qiskit-aer) (1.16.0)\n",
      "Requirement already satisfied: pbr!=2.1.0,>=2.0.0 in /home/osmansemi/qiskit_env/lib/python3.10/site-packages (from stevedore>=3.0.0->qiskit>=0.45.0->qiskit-aer) (6.0.0)\n",
      "Requirement already satisfied: mpmath>=0.19 in /home/osmansemi/qiskit_env/lib/python3.10/site-packages (from sympy>=1.3->qiskit>=0.45.0->qiskit-aer) (1.3.0)\n",
      "Note: you may need to restart the kernel to use updated packages.\n"
     ]
    }
   ],
   "source": [
    "%pip install -U qiskit\n",
    "%pip install -U qiskit-aer"
   ]
  },
  {
   "cell_type": "code",
   "execution_count": 6,
   "id": "4e629d86-4099-4c1d-b911-287b26a7e92e",
   "metadata": {
    "tags": []
   },
   "outputs": [
    {
     "name": "stdout",
     "output_type": "stream",
     "text": [
      "Qiskit Version:  1.0.2\n",
      "Aer Version:  0.14.1\n"
     ]
    }
   ],
   "source": [
    "from qiskit import __version__\n",
    "print('Qiskit Version: ', __version__)\n",
    "from qiskit_aer import __version__\n",
    "print('Aer Version: ', __version__)"
   ]
  }
 ],
 "metadata": {
  "kernelspec": {
   "display_name": "qiskit_env",
   "language": "python",
   "name": "qiskit_env"
  },
  "language_info": {
   "codemirror_mode": {
    "name": "ipython",
    "version": 3
   },
   "file_extension": ".py",
   "mimetype": "text/x-python",
   "name": "python",
   "nbconvert_exporter": "python",
   "pygments_lexer": "ipython3",
   "version": "3.10.12"
  }
 },
 "nbformat": 4,
 "nbformat_minor": 5
}
